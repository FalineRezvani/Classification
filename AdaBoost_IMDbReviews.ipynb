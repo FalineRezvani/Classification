{
  "nbformat": 4,
  "nbformat_minor": 0,
  "metadata": {
    "colab": {
      "provenance": [],
      "authorship_tag": "ABX9TyPpsvGo7ojQqxNYBjR013xC",
      "include_colab_link": true
    },
    "kernelspec": {
      "name": "python3",
      "display_name": "Python 3"
    },
    "language_info": {
      "name": "python"
    }
  },
  "cells": [
    {
      "cell_type": "markdown",
      "metadata": {
        "id": "view-in-github",
        "colab_type": "text"
      },
      "source": [
        "<a href=\"https://colab.research.google.com/github/FalineRezvani/Classification/blob/main/AdaBoost_IMDbReviews.ipynb\" target=\"_parent\"><img src=\"https://colab.research.google.com/assets/colab-badge.svg\" alt=\"Open In Colab\"/></a>"
      ]
    },
    {
      "cell_type": "markdown",
      "source": [
        "September 17, 2024\n",
        "\n",
        "This notebook will use the IMDb Review dataset to train, test, and evaluate an Adaptive Boosting (Ada Boost) classification model for sentiment analysis.\n",
        "\n",
        "The dataset can be obtained from: https://www.kaggle.com/datasets/lakshmi25npathi/imdb-dataset-of-50k-movie-reviews"
      ],
      "metadata": {
        "id": "xSV5uJsJ8vdZ"
      }
    },
    {
      "cell_type": "code",
      "source": [
        "# Importing essential Libraries:\n",
        "# NumPy is used for numerical computations and working with arrays;\n",
        "# Pandas is used for data manipulation and analysis;\n",
        "# Regular expressions (re) is used to specify & match a set of characters.\n",
        "import numpy as np\n",
        "import pandas as pd\n",
        "import re, string\n",
        "import nltk\n",
        "import csv"
      ],
      "metadata": {
        "id": "lswt1k47CmVx"
      },
      "execution_count": 3,
      "outputs": []
    },
    {
      "cell_type": "code",
      "source": [
        "with open('IMDB_Dataset.csv', 'r') as file:\n",
        "  text = csv.reader(file)"
      ],
      "metadata": {
        "id": "HdkRoHhBlyOQ"
      },
      "execution_count": 54,
      "outputs": []
    },
    {
      "cell_type": "code",
      "source": [
        "# Making columns with index [0] of the .csv file.\n",
        "header = []\n",
        "header = next(text)\n",
        "print(header)"
      ],
      "metadata": {
        "colab": {
          "base_uri": "https://localhost:8080/"
        },
        "id": "Plsgb3s7C0eE",
        "outputId": "a79fc39c-3780-49b5-b87f-29731ed49cc6"
      },
      "execution_count": 19,
      "outputs": [
        {
          "output_type": "stream",
          "name": "stdout",
          "text": [
            "['review', 'sentiment']\n"
          ]
        }
      ]
    },
    {
      "cell_type": "code",
      "source": [
        "# Creating the pandas DataFrame using header created above to assign columns.\n",
        "df = pd.DataFrame(text, columns=[header])\n",
        "\n",
        "# Verifying DataFrame row and column count.\n",
        "print(df)"
      ],
      "metadata": {
        "colab": {
          "base_uri": "https://localhost:8080/"
        },
        "id": "M19mnJBYC1QS",
        "outputId": "41f0c77d-dcd1-42e6-e870-69146c5ee15f"
      },
      "execution_count": 20,
      "outputs": [
        {
          "output_type": "stream",
          "name": "stdout",
          "text": [
            "                                                 review sentiment\n",
            "0     One of the other reviewers has mentioned that ...  positive\n",
            "1     A wonderful little production. <br /><br />The...  positive\n",
            "2     I thought this was a wonderful way to spend ti...  positive\n",
            "3     Basically there's a family where a little boy ...  negative\n",
            "4     Petter Mattei's \"Love in the Time of Money\" is...  positive\n",
            "...                                                 ...       ...\n",
            "8679  The BBC'S Blue Planet is simply jaw-dropping. ...  positive\n",
            "8680  I mistakenly kept myself awake late last night...  negative\n",
            "8681  Its my favourite film because there's so much ...  positive\n",
            "8682  As long as you go into this movie knowing that...  positive\n",
            "8683  The legend of Andrei Konchalovsky's towering 4...      None\n",
            "\n",
            "[8684 rows x 2 columns]\n"
          ]
        }
      ]
    },
    {
      "cell_type": "markdown",
      "source": [
        "__Exploratory Data Analysis__"
      ],
      "metadata": {
        "id": "hFlrLjRv4Vkc"
      }
    },
    {
      "cell_type": "code",
      "source": [
        "# Removing NA's.\n",
        "df = df.dropna()"
      ],
      "metadata": {
        "id": "kYwLuh8gB8TV"
      },
      "execution_count": 21,
      "outputs": []
    },
    {
      "cell_type": "code",
      "source": [
        "df.shape"
      ],
      "metadata": {
        "colab": {
          "base_uri": "https://localhost:8080/"
        },
        "id": "eMZ3A-_JYRaE",
        "outputId": "cc99faa8-1108-4294-ddf3-2debaf7d9770"
      },
      "execution_count": null,
      "outputs": [
        {
          "output_type": "execute_result",
          "data": {
            "text/plain": [
              "(8683, 2)"
            ]
          },
          "metadata": {},
          "execution_count": 8
        }
      ]
    },
    {
      "cell_type": "code",
      "source": [
        "df.columns"
      ],
      "metadata": {
        "colab": {
          "base_uri": "https://localhost:8080/"
        },
        "id": "-uV9XnrVYuCj",
        "outputId": "c8a4a522-822e-4e1c-c74a-b51b5659dd15"
      },
      "execution_count": null,
      "outputs": [
        {
          "output_type": "execute_result",
          "data": {
            "text/plain": [
              "MultiIndex([(   'review',),\n",
              "            ('sentiment',)],\n",
              "           )"
            ]
          },
          "metadata": {},
          "execution_count": 9
        }
      ]
    },
    {
      "cell_type": "code",
      "source": [
        "print(df['review'])"
      ],
      "metadata": {
        "colab": {
          "base_uri": "https://localhost:8080/"
        },
        "id": "Q_NcCzuNQQPr",
        "outputId": "da028883-a48e-4a7b-8a15-b7a09984c92d"
      },
      "execution_count": null,
      "outputs": [
        {
          "output_type": "stream",
          "name": "stdout",
          "text": [
            "                                                 review\n",
            "0     One of the other reviewers has mentioned that ...\n",
            "1     A wonderful little production. <br /><br />The...\n",
            "2     I thought this was a wonderful way to spend ti...\n",
            "3     Basically there's a family where a little boy ...\n",
            "4     Petter Mattei's \"Love in the Time of Money\" is...\n",
            "...                                                 ...\n",
            "8678  In Strangers On A Train, it's obvious from the...\n",
            "8679  The BBC'S Blue Planet is simply jaw-dropping. ...\n",
            "8680  I mistakenly kept myself awake late last night...\n",
            "8681  Its my favourite film because there's so much ...\n",
            "8682  As long as you go into this movie knowing that...\n",
            "\n",
            "[8683 rows x 1 columns]\n"
          ]
        }
      ]
    },
    {
      "cell_type": "code",
      "source": [
        "print(df.iloc[:, 0])"
      ],
      "metadata": {
        "colab": {
          "base_uri": "https://localhost:8080/"
        },
        "id": "d6iB6-6j6N0H",
        "outputId": "29b03653-7c4b-4630-c8ad-6154e4f5cf63"
      },
      "execution_count": null,
      "outputs": [
        {
          "output_type": "stream",
          "name": "stdout",
          "text": [
            "0       One of the other reviewers has mentioned that ...\n",
            "1       A wonderful little production. <br /><br />The...\n",
            "2       I thought this was a wonderful way to spend ti...\n",
            "3       Basically there's a family where a little boy ...\n",
            "4       Petter Mattei's \"Love in the Time of Money\" is...\n",
            "                              ...                        \n",
            "8678    In Strangers On A Train, it's obvious from the...\n",
            "8679    The BBC'S Blue Planet is simply jaw-dropping. ...\n",
            "8680    I mistakenly kept myself awake late last night...\n",
            "8681    Its my favourite film because there's so much ...\n",
            "8682    As long as you go into this movie knowing that...\n",
            "Name: (review,), Length: 8683, dtype: object\n"
          ]
        }
      ]
    },
    {
      "cell_type": "code",
      "source": [
        "print(df['sentiment'])"
      ],
      "metadata": {
        "colab": {
          "base_uri": "https://localhost:8080/"
        },
        "id": "fH5VX3wXQXev",
        "outputId": "1d1676a1-190a-43e3-9ae6-0c522b270a79"
      },
      "execution_count": null,
      "outputs": [
        {
          "output_type": "stream",
          "name": "stdout",
          "text": [
            "     sentiment\n",
            "0     positive\n",
            "1     positive\n",
            "2     positive\n",
            "3     negative\n",
            "4     positive\n",
            "...        ...\n",
            "8678  positive\n",
            "8679  positive\n",
            "8680  negative\n",
            "8681  positive\n",
            "8682  positive\n",
            "\n",
            "[8683 rows x 1 columns]\n"
          ]
        }
      ]
    },
    {
      "cell_type": "code",
      "source": [
        "df.info()"
      ],
      "metadata": {
        "colab": {
          "base_uri": "https://localhost:8080/"
        },
        "id": "XkPa8X50alUC",
        "outputId": "3860aa8a-3a47-43ee-fd91-797a5e31c0d3"
      },
      "execution_count": null,
      "outputs": [
        {
          "output_type": "stream",
          "name": "stdout",
          "text": [
            "<class 'pandas.core.frame.DataFrame'>\n",
            "RangeIndex: 8683 entries, 0 to 8682\n",
            "Data columns (total 2 columns):\n",
            " #   Column        Non-Null Count  Dtype \n",
            "---  ------        --------------  ----- \n",
            " 0   (review,)     8683 non-null   object\n",
            " 1   (sentiment,)  8683 non-null   object\n",
            "dtypes: object(2)\n",
            "memory usage: 135.8+ KB\n"
          ]
        }
      ]
    },
    {
      "cell_type": "code",
      "source": [
        "df.index"
      ],
      "metadata": {
        "colab": {
          "base_uri": "https://localhost:8080/"
        },
        "id": "z3pF21xgl1iN",
        "outputId": "2f270848-fdf1-4b2b-84f4-c7c42433bf42"
      },
      "execution_count": null,
      "outputs": [
        {
          "output_type": "execute_result",
          "data": {
            "text/plain": [
              "RangeIndex(start=0, stop=8683, step=1)"
            ]
          },
          "metadata": {},
          "execution_count": 14
        }
      ]
    },
    {
      "cell_type": "code",
      "source": [
        "df['sentiment'].value_counts()"
      ],
      "metadata": {
        "colab": {
          "base_uri": "https://localhost:8080/",
          "height": 178
        },
        "id": "3l-yIbWcbU8g",
        "outputId": "69bed62d-09df-4b21-fc06-2cf6baa47055"
      },
      "execution_count": null,
      "outputs": [
        {
          "output_type": "execute_result",
          "data": {
            "text/plain": [
              "(sentiment,)\n",
              "positive        4359\n",
              "negative        4324\n",
              "Name: count, dtype: int64"
            ],
            "text/html": [
              "<div>\n",
              "<style scoped>\n",
              "    .dataframe tbody tr th:only-of-type {\n",
              "        vertical-align: middle;\n",
              "    }\n",
              "\n",
              "    .dataframe tbody tr th {\n",
              "        vertical-align: top;\n",
              "    }\n",
              "\n",
              "    .dataframe thead th {\n",
              "        text-align: right;\n",
              "    }\n",
              "</style>\n",
              "<table border=\"1\" class=\"dataframe\">\n",
              "  <thead>\n",
              "    <tr style=\"text-align: right;\">\n",
              "      <th></th>\n",
              "      <th>count</th>\n",
              "    </tr>\n",
              "    <tr>\n",
              "      <th>(sentiment,)</th>\n",
              "      <th></th>\n",
              "    </tr>\n",
              "  </thead>\n",
              "  <tbody>\n",
              "    <tr>\n",
              "      <th>positive</th>\n",
              "      <td>4359</td>\n",
              "    </tr>\n",
              "    <tr>\n",
              "      <th>negative</th>\n",
              "      <td>4324</td>\n",
              "    </tr>\n",
              "  </tbody>\n",
              "</table>\n",
              "</div><br><label><b>dtype:</b> int64</label>"
            ]
          },
          "metadata": {},
          "execution_count": 15
        }
      ]
    },
    {
      "cell_type": "code",
      "source": [
        "df.isnull().sum()"
      ],
      "metadata": {
        "colab": {
          "base_uri": "https://localhost:8080/",
          "height": 147
        },
        "id": "mGX-hqVSc-9r",
        "outputId": "d0ca501f-a7ec-411a-b6f4-3b135459339c"
      },
      "execution_count": null,
      "outputs": [
        {
          "output_type": "execute_result",
          "data": {
            "text/plain": [
              "review       0\n",
              "sentiment    0\n",
              "dtype: int64"
            ],
            "text/html": [
              "<div>\n",
              "<style scoped>\n",
              "    .dataframe tbody tr th:only-of-type {\n",
              "        vertical-align: middle;\n",
              "    }\n",
              "\n",
              "    .dataframe tbody tr th {\n",
              "        vertical-align: top;\n",
              "    }\n",
              "\n",
              "    .dataframe thead th {\n",
              "        text-align: right;\n",
              "    }\n",
              "</style>\n",
              "<table border=\"1\" class=\"dataframe\">\n",
              "  <thead>\n",
              "    <tr style=\"text-align: right;\">\n",
              "      <th></th>\n",
              "      <th>0</th>\n",
              "    </tr>\n",
              "  </thead>\n",
              "  <tbody>\n",
              "    <tr>\n",
              "      <th>review</th>\n",
              "      <td>0</td>\n",
              "    </tr>\n",
              "    <tr>\n",
              "      <th>sentiment</th>\n",
              "      <td>0</td>\n",
              "    </tr>\n",
              "  </tbody>\n",
              "</table>\n",
              "</div><br><label><b>dtype:</b> int64</label>"
            ]
          },
          "metadata": {},
          "execution_count": 16
        }
      ]
    },
    {
      "cell_type": "markdown",
      "source": [
        "__Label Encoding__"
      ],
      "metadata": {
        "id": "sAvEttPEeI3r"
      }
    },
    {
      "cell_type": "code",
      "source": [
        "from sklearn.preprocessing import LabelEncoder"
      ],
      "metadata": {
        "id": "qNJPJf0Od-2-"
      },
      "execution_count": 22,
      "outputs": []
    },
    {
      "cell_type": "code",
      "source": [
        "# Instantiating label encoder.\n",
        "le = LabelEncoder()"
      ],
      "metadata": {
        "id": "SOPtartleQg_"
      },
      "execution_count": 23,
      "outputs": []
    },
    {
      "cell_type": "code",
      "source": [
        "# Fitting to target variable, 'sentiment' (label/class).\n",
        "df['sentiment'] = le.fit_transform(df[['sentiment']])"
      ],
      "metadata": {
        "colab": {
          "base_uri": "https://localhost:8080/"
        },
        "id": "dStlPQ07eSbA",
        "outputId": "d3fd1a86-2d5b-4345-b277-4ac0daa54c4e"
      },
      "execution_count": 24,
      "outputs": [
        {
          "output_type": "stream",
          "name": "stderr",
          "text": [
            "/usr/local/lib/python3.10/dist-packages/sklearn/preprocessing/_label.py:114: DataConversionWarning: A column-vector y was passed when a 1d array was expected. Please change the shape of y to (n_samples, ), for example using ravel().\n",
            "  y = column_or_1d(y, warn=True)\n"
          ]
        }
      ]
    },
    {
      "cell_type": "code",
      "source": [
        "# Checking that we only have two classes.\n",
        "le.classes_"
      ],
      "metadata": {
        "colab": {
          "base_uri": "https://localhost:8080/"
        },
        "id": "Iv4EQHeLelHL",
        "outputId": "9c7f0163-c87b-4411-cfb1-c4986722b5c5"
      },
      "execution_count": 25,
      "outputs": [
        {
          "output_type": "execute_result",
          "data": {
            "text/plain": [
              "array(['negative', 'positive'], dtype=object)"
            ]
          },
          "metadata": {},
          "execution_count": 25
        }
      ]
    },
    {
      "cell_type": "code",
      "source": [
        "# Counting instances of our label (dependent/target variable), 'sentiment'.\n",
        "# 1 - positive, 0 - negative\n",
        "df['sentiment'].value_counts()"
      ],
      "metadata": {
        "colab": {
          "base_uri": "https://localhost:8080/",
          "height": 178
        },
        "id": "BT0g3UELgjG5",
        "outputId": "be5da138-6aac-4a97-fe9d-aeaa155dbb9c"
      },
      "execution_count": 26,
      "outputs": [
        {
          "output_type": "execute_result",
          "data": {
            "text/plain": [
              "(sentiment,)\n",
              "1               4359\n",
              "0               4324\n",
              "Name: count, dtype: int64"
            ],
            "text/html": [
              "<div>\n",
              "<style scoped>\n",
              "    .dataframe tbody tr th:only-of-type {\n",
              "        vertical-align: middle;\n",
              "    }\n",
              "\n",
              "    .dataframe tbody tr th {\n",
              "        vertical-align: top;\n",
              "    }\n",
              "\n",
              "    .dataframe thead th {\n",
              "        text-align: right;\n",
              "    }\n",
              "</style>\n",
              "<table border=\"1\" class=\"dataframe\">\n",
              "  <thead>\n",
              "    <tr style=\"text-align: right;\">\n",
              "      <th></th>\n",
              "      <th>count</th>\n",
              "    </tr>\n",
              "    <tr>\n",
              "      <th>(sentiment,)</th>\n",
              "      <th></th>\n",
              "    </tr>\n",
              "  </thead>\n",
              "  <tbody>\n",
              "    <tr>\n",
              "      <th>1</th>\n",
              "      <td>4359</td>\n",
              "    </tr>\n",
              "    <tr>\n",
              "      <th>0</th>\n",
              "      <td>4324</td>\n",
              "    </tr>\n",
              "  </tbody>\n",
              "</table>\n",
              "</div><br><label><b>dtype:</b> int64</label>"
            ]
          },
          "metadata": {},
          "execution_count": 26
        }
      ]
    },
    {
      "cell_type": "code",
      "source": [
        "print(df.iloc[:, 1])"
      ],
      "metadata": {
        "colab": {
          "base_uri": "https://localhost:8080/"
        },
        "id": "iXeMDAIa6F-N",
        "outputId": "1b3ae6fc-22d2-42e4-a044-9fab97445882"
      },
      "execution_count": null,
      "outputs": [
        {
          "output_type": "stream",
          "name": "stdout",
          "text": [
            "0       1\n",
            "1       1\n",
            "2       1\n",
            "3       0\n",
            "4       1\n",
            "       ..\n",
            "8678    1\n",
            "8679    1\n",
            "8680    0\n",
            "8681    1\n",
            "8682    1\n",
            "Name: (sentiment,), Length: 8683, dtype: int64\n"
          ]
        }
      ]
    },
    {
      "cell_type": "markdown",
      "source": [
        "__Download English Stop Words and Remove 'Not'__"
      ],
      "metadata": {
        "id": "7y1sJeSGJBnS"
      }
    },
    {
      "cell_type": "code",
      "source": [
        "# Downloading NLTK stopwords data.\n",
        "# Stop words are commonly used in human language, such as contractions, yet not useful to meaning.\n",
        "nltk.download('stopwords')\n",
        "from nltk.corpus import stopwords\n",
        "\n",
        "# Importing the Porter stemming algorithm to strip suffixes\n",
        "from nltk.stem.porter import PorterStemmer"
      ],
      "metadata": {
        "id": "7MhMxIWHJFG1",
        "colab": {
          "base_uri": "https://localhost:8080/"
        },
        "outputId": "a6352227-e5b5-4fd1-fb81-15a114fab7a3"
      },
      "execution_count": 27,
      "outputs": [
        {
          "output_type": "stream",
          "name": "stderr",
          "text": [
            "[nltk_data] Downloading package stopwords to /root/nltk_data...\n",
            "[nltk_data]   Package stopwords is already up-to-date!\n"
          ]
        }
      ]
    },
    {
      "cell_type": "code",
      "source": [
        "# Removing 'not' from English stop words list.\n",
        "stop_words = set(stopwords.words('english'))\n",
        "stop_words.remove('not')\n",
        "'not' in stop_words"
      ],
      "metadata": {
        "id": "GE3N9b_AJMSV",
        "colab": {
          "base_uri": "https://localhost:8080/"
        },
        "outputId": "5270fd86-200f-4606-ba57-7efb78c55559"
      },
      "execution_count": 28,
      "outputs": [
        {
          "output_type": "execute_result",
          "data": {
            "text/plain": [
              "False"
            ]
          },
          "metadata": {},
          "execution_count": 28
        }
      ]
    },
    {
      "cell_type": "markdown",
      "source": [
        "__Creating Corpus from DataFrame__"
      ],
      "metadata": {
        "id": "MukgS4C7qOBL"
      }
    },
    {
      "cell_type": "code",
      "source": [
        "corpus = []\n",
        "\n",
        "for i in range(0, 8683):\n",
        "  review = re.compile('<.*?>').sub(repl=' ', string=df.iloc[:,0][i])\n",
        "  review = re.compile('[%s]' % re.escape(string.punctuation)).sub(' ', review)\n",
        "  review = review.lower()\n",
        "  corpus.append(review)"
      ],
      "metadata": {
        "id": "mTx6HUJhBV_Y"
      },
      "execution_count": 29,
      "outputs": []
    },
    {
      "cell_type": "code",
      "source": [
        "# Verifying corpus.\n",
        "#corpus[:5]"
      ],
      "metadata": {
        "id": "uN_XPDv1CfbZ"
      },
      "execution_count": null,
      "outputs": []
    },
    {
      "cell_type": "markdown",
      "source": [
        "__Vectorizing/embedding Corpus & Assigning Arrays to X and y Variables__"
      ],
      "metadata": {
        "id": "65qL3rOjXQlL"
      }
    },
    {
      "cell_type": "code",
      "source": [
        "# Importing the CountVectorizer class from scikit-learn, which is used to convert text data into numerical features.\n",
        "from sklearn.feature_extraction.text import CountVectorizer\n",
        "\n",
        "# Word embedding, or vectorization, represents semantics and syntax numerically.\n",
        "# Instatiating CountVectorizer with a specified maximum number of features to be included in vocabulary.\n",
        "cv = CountVectorizer(max_features=5000)\n",
        "\n",
        "# Putting corpus in an array containing numerical representations of\n",
        "# the text data to be used as input, or the 'X' variable, for our model.\n",
        "X = cv.fit_transform(corpus).toarray()\n",
        "\n",
        "# Creating 'y' array containing the labels, or class, corresponding to each review.\n",
        "y = df.iloc[:, 1].values"
      ],
      "metadata": {
        "id": "r_5iEYXlVQow"
      },
      "execution_count": 30,
      "outputs": []
    },
    {
      "cell_type": "markdown",
      "source": [
        "__Splitting X and y into Train/test Sets__"
      ],
      "metadata": {
        "id": "fS3xG0V3XQAw"
      }
    },
    {
      "cell_type": "code",
      "source": [
        "from sklearn.model_selection import train_test_split\n",
        "\n",
        "# Reserving 20% of each dataset for testing.\n",
        "trainX, testX, trainY, testY = train_test_split(X, y, test_size=0.20, random_state=0)"
      ],
      "metadata": {
        "id": "SHSOZWraXaRF"
      },
      "execution_count": 47,
      "outputs": []
    },
    {
      "cell_type": "code",
      "source": [
        "# Verifying 8683 samples (X) and 8683 labels (y) each broken up into 80/20 train/test sets.\n",
        "trainX.shape, testX.shape, trainY.shape, testY.shape"
      ],
      "metadata": {
        "id": "PuRXcJIRY565",
        "colab": {
          "base_uri": "https://localhost:8080/"
        },
        "outputId": "52b2c19e-a42f-4880-fcd3-03e39bded7b9"
      },
      "execution_count": 48,
      "outputs": [
        {
          "output_type": "execute_result",
          "data": {
            "text/plain": [
              "((6946, 5000), (1737, 5000), (6946,), (1737,))"
            ]
          },
          "metadata": {},
          "execution_count": 48
        }
      ]
    },
    {
      "cell_type": "markdown",
      "source": [
        "__Compiling, Training, Testing, & Evaluating Ada Boost Classifier__"
      ],
      "metadata": {
        "id": "uGjOwKd1dXC1"
      }
    },
    {
      "cell_type": "code",
      "source": [
        "from sklearn.metrics import accuracy_score, precision_score, recall_score, f1_score, confusion_matrix, classification_report\n",
        "from sklearn.ensemble import AdaBoostClassifier\n",
        "from sklearn.model_selection import KFold\n",
        "\n",
        "# Instantiating AdaBoostClassifier,\n",
        "# which focuses on re-weighting weak classifiers.\n",
        "ada_boost_classifier = AdaBoostClassifier()\n",
        "\n",
        "# Assigning the number of folds for k-fold cross-validator.\n",
        "# A value of 10 is used as a standard to result in low bias with moderate variance.\n",
        "#num_folds = 10\n",
        "num_folds = 11\n",
        "\n",
        "# Instatiating a k-fold cross-validator to estimate model performance.\n",
        "kf = KFold(n_splits=num_folds, shuffle=True, random_state=42)\n",
        "\n",
        "# Creating lists to store metrics for each fold.\n",
        "train_accuracies = []\n",
        "test_accuracies = []\n",
        "precision_scores = []\n",
        "recall_scores = []\n",
        "f1_scores = []\n",
        "confusion_matrices = []\n",
        "classification_reports = []\n",
        "\n",
        "# Building loop to traverse through each fold.\n",
        "for train_index, test_index in kf.split(X):\n",
        "    trainX, testX = X[train_index], X[test_index]\n",
        "    trainY, testY = y[train_index], y[test_index]\n",
        "\n",
        "    # Fitting the AdaBoostClassifier training dataset.\n",
        "    ada_boost_classifier.fit(trainX, trainY)\n",
        "\n",
        "    # Making predictions on the training data.\n",
        "    trainY_pred = ada_boost_classifier.predict(trainX)\n",
        "\n",
        "    # Calculating training accuracy for the fold.\n",
        "    train_accuracy = accuracy_score(trainY, trainY_pred)\n",
        "    train_accuracies.append(train_accuracy)\n",
        "\n",
        "    # Making predictions on the testing data.\n",
        "    testY_pred = ada_boost_classifier.predict(testX)\n",
        "\n",
        "    # Calculating testing accuracy for the fold.\n",
        "    test_accuracy = accuracy_score(testY, testY_pred)\n",
        "    test_accuracies.append(test_accuracy)\n",
        "\n",
        "    # Calculating precision, recall, and F1-score for the fold.\n",
        "    precision = precision_score(testY, testY_pred)\n",
        "    recall = recall_score(testY, testY_pred)\n",
        "    f1 = f1_score(testY, testY_pred)\n",
        "\n",
        "    precision_scores.append(precision)\n",
        "    recall_scores.append(recall)\n",
        "    f1_scores.append(f1)\n",
        "\n",
        "    # Calculating and storing the confusion matrix,\n",
        "    # or true and false classifications of data points, for the fold.\n",
        "    cm = confusion_matrix(testY, testY_pred)\n",
        "    confusion_matrices.append(cm)\n",
        "\n",
        "    # Generating and storing the classification report for the fold.\n",
        "    cr = classification_report(testY, testY_pred)\n",
        "    classification_reports.append(cr)"
      ],
      "metadata": {
        "id": "qDQW-E_fmtk9"
      },
      "execution_count": 49,
      "outputs": []
    },
    {
      "cell_type": "markdown",
      "source": [
        "__Evaluation__"
      ],
      "metadata": {
        "id": "uASIS66w-Hfh"
      }
    },
    {
      "cell_type": "code",
      "source": [
        "# Calculating the average training and testing accuracies.\n",
        "avg_train_accuracy = np.mean(train_accuracies)\n",
        "avg_test_accuracy = np.mean(test_accuracies)\n",
        "avg_accuracy_difference = np.mean(train_accuracy - test_accuracies)\n",
        "\n",
        "# Calculating the average precision, recall, and F1-score.\n",
        "avg_precision = np.mean(precision_scores)\n",
        "avg_recall = np.mean(recall_scores)\n",
        "avg_f1 = np.mean(f1_scores)\n",
        "\n",
        "print(\"Ada Boost Evaluation Results:\")\n",
        "print(\"-\"*150)\n",
        "print(f\"Average Training Accuracy: {avg_train_accuracy * 100:.2f}%\")\n",
        "print(\"-\"*150)\n",
        "print(f\"Average Testing Accuracy: {avg_test_accuracy * 100:.2f}%\")\n",
        "print(\"-\"*150)\n",
        "print(f\"Average Accuracies Difference: {avg_accuracy_difference * 100:.2f}%\")\n",
        "print(\"-\"*150)\n",
        "print(f\"Average Precision: {avg_precision:.2f}\")\n",
        "print(\"-\"*150)\n",
        "print(f\"Average Recall: {avg_recall:.2f}\")\n",
        "print(\"-\"*150)\n",
        "print(f\"Average F1-score: {avg_f1:.2f}\")\n",
        "print(\"-\"*150)"
      ],
      "metadata": {
        "colab": {
          "base_uri": "https://localhost:8080/"
        },
        "id": "Ge5--1m0_b8H",
        "outputId": "c91ccd7d-95a6-42a1-815e-d13e0ff97c5f"
      },
      "execution_count": 50,
      "outputs": [
        {
          "output_type": "stream",
          "name": "stdout",
          "text": [
            "Ada Boost Evaluation Results:\n",
            "------------------------------------------------------------------------------------------------------------------------------------------------------\n",
            "Average Training Accuracy: 81.29%\n",
            "------------------------------------------------------------------------------------------------------------------------------------------------------\n",
            "Average Testing Accuracy: 80.20%\n",
            "------------------------------------------------------------------------------------------------------------------------------------------------------\n",
            "Average Accuracies Difference: 1.12%\n",
            "------------------------------------------------------------------------------------------------------------------------------------------------------\n",
            "Average Precision: 0.79\n",
            "------------------------------------------------------------------------------------------------------------------------------------------------------\n",
            "Average Recall: 0.82\n",
            "------------------------------------------------------------------------------------------------------------------------------------------------------\n",
            "Average F1-score: 0.81\n",
            "------------------------------------------------------------------------------------------------------------------------------------------------------\n"
          ]
        }
      ]
    },
    {
      "cell_type": "code",
      "source": [
        "print(f\"Confusion Matrix - Fold {len(confusion_matrices)}:\\n{cm}\")"
      ],
      "metadata": {
        "colab": {
          "base_uri": "https://localhost:8080/"
        },
        "id": "3pViQxv4klZ4",
        "outputId": "fb594174-823a-453c-a453-8fb74d1d36b8"
      },
      "execution_count": 51,
      "outputs": [
        {
          "output_type": "stream",
          "name": "stdout",
          "text": [
            "Confusion Matrix - Fold 11:\n",
            "[[303  85]\n",
            " [ 70 331]]\n"
          ]
        }
      ]
    },
    {
      "cell_type": "code",
      "source": [
        "import matplotlib.pyplot as plt\n",
        "import seaborn as sns\n",
        "from sklearn.metrics import confusion_matrix\n",
        "\n",
        "# Visualizing the classification matrix with number of folds set to 11.\n",
        "# We see 303 true negatives, 70 false negatives, 85 false positives, & 331 true positives.\n",
        "plt.figure(figsize=(8, 6))\n",
        "sns.heatmap(cm, annot=True, fmt=\"d\", cmap=\"Blues\", cbar=False)\n",
        "plt.xlabel(\"Predicted Labels\")\n",
        "plt.ylabel(\"True Labels\")\n",
        "plt.title(\"Confusion Matrix\")\n",
        "plt.show()"
      ],
      "metadata": {
        "colab": {
          "base_uri": "https://localhost:8080/",
          "height": 564
        },
        "id": "h5kUKxbek3ll",
        "outputId": "0f809a37-4c54-405e-9259-cdb0e189527b"
      },
      "execution_count": 52,
      "outputs": [
        {
          "output_type": "display_data",
          "data": {
            "text/plain": [
              "<Figure size 800x600 with 1 Axes>"
            ],
            "image/png": "[encoded data removed]"
          },
          "metadata": {}
        }
      ]
    },
    {
      "cell_type": "code",
      "source": [
        "# The classification report shows accuracy, the ratio of correct predictions to total predictions;\n",
        "# precision, our focus when minimizing false positives; and recall, our focus when minimizing false negatives.\n",
        "# Our goal is to not overlook any negative sentiment, so we want to minimize false positives.\n",
        "\n",
        "print(f\"Classification Report - Fold {len(classification_reports)}:\\n{cr}\")"
      ],
      "metadata": {
        "colab": {
          "base_uri": "https://localhost:8080/"
        },
        "id": "tg0l2KFxkmiG",
        "outputId": "7235f344-c970-426e-b460-a7e7ce0620ad"
      },
      "execution_count": 53,
      "outputs": [
        {
          "output_type": "stream",
          "name": "stdout",
          "text": [
            "Classification Report - Fold 11:\n",
            "              precision    recall  f1-score   support\n",
            "\n",
            "           0       0.81      0.78      0.80       388\n",
            "           1       0.80      0.83      0.81       401\n",
            "\n",
            "    accuracy                           0.80       789\n",
            "   macro avg       0.80      0.80      0.80       789\n",
            "weighted avg       0.80      0.80      0.80       789\n",
            "\n"
          ]
        }
      ]
    }
  ]
}